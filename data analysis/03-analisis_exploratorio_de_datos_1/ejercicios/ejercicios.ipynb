{
 "cells": [
  {
   "cell_type": "markdown",
   "metadata": {},
   "source": [
    "## Introducción\n",
    "\n",
    "En estos ejercicios vamos a trabajar con el dataset alojado en la ruta del curso **/Dia-04/datasets/seguro_medico.csv** representa el conjunto de datos de clientes de una aseguradora de salud.\n",
    "\n",
    "Las columnas del dataframe significan lo siguiente:\n",
    "\n",
    "1. `age` : Edad del cliente\n",
    "2. `sex` : Sexo del cliente\n",
    "3. `bmi` : Índice de masa corporal del cliente (Ideal entre 18.5 y 24.9)\n",
    "4. `children` : Número de hijos incluidos en el seguro de salud\n",
    "5. `smoker` : El cliente es fumador o no \n",
    "6. `region` : Región donde vive el cliente en USA\n",
    "7. `charges` : Gastos médicos individuales facturados por el seguro\n",
    "\n",
    "\n",
    "Ejecuta la siguiente celda para el dataframe con el contenido del dataset."
   ]
  },
  {
   "cell_type": "code",
   "execution_count": null,
   "metadata": {},
   "outputs": [],
   "source": [
    "import pandas as pd\n",
    "\n",
    "seguro_medico = pd.read_csv(\"../datasets/seguro_medico.csv\")\n",
    "\n",
    "seguro_medico"
   ]
  },
  {
   "cell_type": "markdown",
   "metadata": {},
   "source": [
    "## Ejercicio 1\n",
    "\n",
    "**¿Cuál es el costo promedio del seguro de salud para fumadores y no fumadores?** \n",
    "\n",
    "Pista: Utiliza las funciones `groupby` y `describe`"
   ]
  },
  {
   "cell_type": "code",
   "execution_count": null,
   "metadata": {},
   "outputs": [],
   "source": [
    "# Agrupar por fumadores y calcular estadísticas resumidas del costo del seguro\n",
    "costo_promedio_por_fumador = seguro_medico.groupby('smoker')['charges'].describe()\n",
    "print(costo_promedio_por_fumador)"
   ]
  },
  {
   "cell_type": "markdown",
   "metadata": {},
   "source": [
    "## Ejercicio 2\n",
    "\n",
    "**¿Cuál es la edad promedio de los asegurados por región?** \n",
    "\n",
    "Pista: Utiliza las funciones `groupby` y `describe`"
   ]
  },
  {
   "cell_type": "code",
   "execution_count": null,
   "metadata": {},
   "outputs": [],
   "source": [
    "edad_promedio_por_region = seguro_medico.groupby('region')['age'].describe()\n",
    "print(edad_promedio_por_region)"
   ]
  },
  {
   "cell_type": "markdown",
   "metadata": {},
   "source": [
    "## Ejercicio 3\n",
    "\n",
    "**¿Cuál es el grupo de personas que más paga en promedio si nos fijamos en la edad? ¿Y si nos fijamos en la edad y en el indice de masa corporal?** \n",
    "\n",
    "Pista: Utiliza las funciones `groupby`, `sort_values` y `iloc`"
   ]
  },
  {
   "cell_type": "code",
   "execution_count": null,
   "metadata": {},
   "outputs": [],
   "source": [
    "# Pregunta 1\n",
    "grupo_mas_costoso = seguro_medico.groupby([\"age\"])[\"charges\"].mean()\n",
    "grupo_mas_costoso.max()\n",
    "print(\"El índice del valor más alto en la serie es:\", grupo_mas_costoso.idxmax())\n",
    "print(\"El valor más alto en la serie es:\", grupo_mas_costoso.max())\n",
    "\n",
    "# Pregunta 2\n",
    "grupo_mas_costoso = seguro_medico.groupby([\"age\", \"bmi\"])[\"charges\"].mean().reset_index()\n",
    "grupo_mas_costoso.sort_values(by=[\"charges\"], ascending=False).iloc[0]"
   ]
  },
  {
   "cell_type": "markdown",
   "metadata": {},
   "source": [
    "## Ejercicio 4\n",
    "\n",
    "**¿Cuál es el porcentaje de fumadores en cada región y género?** \n",
    "\n",
    "Pista: Utiliza las funciónes `groupby` y `size`\n",
    "\n",
    "Documentación de `size`: https://pandas.pydata.org/docs/reference/api/pandas.DataFrame.size.html"
   ]
  },
  {
   "cell_type": "code",
   "execution_count": null,
   "metadata": {},
   "outputs": [],
   "source": [
    "# Calcular el porcentaje de fumadores en cada grupo\n",
    "porcentaje_fumadores = seguro_medico.groupby(['region', 'sex', 'smoker']).size() / seguro_medico.groupby(['region', 'sex']).size() * 100\n",
    "print(porcentaje_fumadores)"
   ]
  },
  {
   "cell_type": "markdown",
   "metadata": {},
   "source": [
    "## Ejercicio 5\n",
    "\n",
    "**¿Cómo varía el costo promedio del seguro de salud para fumadores y no fumadores en función de la cantidad de hijos que tienen?** \n",
    "\n",
    "Pista: Utiliza las funciones `groupby` y `describe`"
   ]
  },
  {
   "cell_type": "code",
   "execution_count": null,
   "metadata": {},
   "outputs": [],
   "source": [
    "grupo_costo_por_hijos = seguro_medico.groupby('children').apply(lambda children_group: children_group.groupby('smoker')['charges'].mean())"
   ]
  },
  {
   "cell_type": "markdown",
   "metadata": {},
   "source": [
    "## Ejercicio 6\n",
    "\n",
    "**¿Cuál es la diferencia absoluta y relativa (porcentaje) en el costo del seguro entre fumadores y no fumadores en cada grupo de edad?** \n",
    "\n",
    "Pista: Utiliza las funciones `groupby` y `apply`"
   ]
  },
  {
   "cell_type": "code",
   "execution_count": null,
   "metadata": {},
   "outputs": [],
   "source": [
    "# Calcular la diferencia absoluta y relativa en el costo del seguro para cada grupo de edad\n",
    "def diferencia_costo_grupo_edad(group):\n",
    "    costo_fumadores = group[group['smoker'] == 'yes']['charges'].mean()\n",
    "    costo_no_fumadores = group[group['smoker'] == 'no']['charges'].mean()\n",
    "    diferencia_absoluta = costo_fumadores - costo_no_fumadores\n",
    "    diferencia_relativa = (costo_fumadores - costo_no_fumadores) / costo_no_fumadores * 100\n",
    "    return pd.Series({'diferencia_absoluta': diferencia_absoluta, 'diferencia_relativa': diferencia_relativa})\n",
    "\n",
    "diferencia_costo_edad = seguro_medico.groupby('age').apply(diferencia_costo_grupo_edad)\n",
    "print(diferencia_costo_edad)"
   ]
  }
 ],
 "metadata": {
  "kernelspec": {
   "display_name": "Python 3",
   "language": "python",
   "name": "python3"
  },
  "language_info": {
   "codemirror_mode": {
    "name": "ipython",
    "version": 3
   },
   "file_extension": ".py",
   "mimetype": "text/x-python",
   "name": "python",
   "nbconvert_exporter": "python",
   "pygments_lexer": "ipython3",
   "version": "3.9.9"
  },
  "orig_nbformat": 4
 },
 "nbformat": 4,
 "nbformat_minor": 2
}
