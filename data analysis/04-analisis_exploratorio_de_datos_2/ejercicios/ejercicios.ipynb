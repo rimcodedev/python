{
 "cells": [
  {
   "cell_type": "markdown",
   "metadata": {},
   "source": [
    "## Introducción\n",
    "\n",
    "En estos ejercicios vamos a trabajar con los datasets alojado en la ruta del curso **/Dia-05/datasets/XXVideos** representan el conjunto de estadísticas de vídeos de Youtube en los países de Canadá, USA y México.\n",
    "\n",
    "Las columnas del dataframe significan lo siguiente:\n",
    "\n",
    "1. `video_id` : Id del vídeo\n",
    "2. `trending_date` : Fecha de registro de estadísticas\n",
    "3. `title` : Título del vídeo\n",
    "4. `channel_title` : Nombre del canal de Youtube\n",
    "5. `category_id` : Id de la categoría del vídeo\n",
    "6. `publish_time` : Fecha de publicación del vídeo\n",
    "7. `tags` : Etiquetas del vídeo\n",
    "8. `views` : Vistas del vídeo en la fecha 'trending_date'\n",
    "9. `likes` : Likes del video en la fecha 'trending_date'\n",
    "10. `dislikes` : Dislikes del video en la fecha 'trending_date'\n",
    "11. `comment_count` : Número de comentarios en la fecha 'trending_date'\n",
    "12. `thumbnail_link` : Link a la miniatura del vídeo\n",
    "13. `comments_disabled` : Comentarios desactivados\n",
    "14. `ratings_disabled` : Likes/Dislikes desactivados\n",
    "15. `video_error_or_removed` : Video borrado o con error en subida\n",
    "16. `description` : Descripción del vídeo\n",
    "\n",
    "Ejecuta la siguiente celda para el dataframe con el contenido del dataset."
   ]
  },
  {
   "cell_type": "code",
   "execution_count": null,
   "metadata": {},
   "outputs": [],
   "source": [
    "import pandas as pd\n",
    "\n",
    "ca_videos = pd.read_csv(\"../datasets/CAvideos.csv\")\n",
    "mx_videos = pd.read_csv(\"../datasets/MXvideos.csv\", encoding='latin-1')\n",
    "usa_videos = pd.read_csv(\"../datasets/USvideos.csv\")\n",
    "\n",
    "mx_videos"
   ]
  },
  {
   "cell_type": "markdown",
   "metadata": {},
   "source": [
    "## Ejercicio 1\n",
    "\n",
    "Imprime los tipos de datos de las columnas de los 3 dataframes. ¿Tienen los mismos tipos de datos?"
   ]
  },
  {
   "cell_type": "code",
   "execution_count": null,
   "metadata": {},
   "outputs": [],
   "source": [
    "ca_videos.dtypes"
   ]
  },
  {
   "cell_type": "code",
   "execution_count": null,
   "metadata": {},
   "outputs": [],
   "source": [
    "mx_videos.dtypes"
   ]
  },
  {
   "cell_type": "code",
   "execution_count": null,
   "metadata": {},
   "outputs": [],
   "source": [
    "usa_videos.dtypes"
   ]
  },
  {
   "cell_type": "markdown",
   "metadata": {},
   "source": [
    "## Ejercicio 2 \n",
    "\n",
    "Renombra las columnas `trending_date` y `publish_time` a los nombres `statistics_date` y `publish_date` respectivamente para los 3 paises."
   ]
  },
  {
   "cell_type": "code",
   "execution_count": null,
   "metadata": {},
   "outputs": [],
   "source": [
    "ca_videos = ca_videos.rename(columns={'trending_date': 'statistics_date', 'publish_time': 'publish_date'})\n",
    "usa_videos = usa_videos.rename(columns={'trending_date': 'statistics_date', 'publish_time': 'publish_date'})\n",
    "mx_videos = mx_videos.rename(columns={'trending_date': 'statistics_date', 'publish_time': 'publish_date'})"
   ]
  },
  {
   "cell_type": "markdown",
   "metadata": {},
   "source": [
    "## Ejercicio 3\n",
    "\n",
    "Convierte las columnas `statistics_date` y `publish_date` de los 3 dataframe tipo de dato datetime64 con el formato **YYYY-MM-DD** para poder realizar funciones de agrupación y extracción de fechas."
   ]
  },
  {
   "cell_type": "code",
   "execution_count": null,
   "metadata": {},
   "outputs": [],
   "source": [
    "def transformar_fecha_estadisticas(df, column_name):\n",
    "    df[column_name] = pd.to_datetime(pd.to_datetime(df[column_name], format='%y.%d.%m').dt.strftime('%Y-%m-%d'))\n",
    "\n",
    "def transformar_fecha_publicacion(df, column_name):\n",
    "    df[column_name] = pd.to_datetime(pd.to_datetime(df[column_name]).dt.strftime('%Y-%m-%d'))\n",
    "\n",
    "# Llamadas a la función para cada DataFrame y columna necesaria\n",
    "transformar_fecha_estadisticas(ca_videos, 'statistics_date')\n",
    "transformar_fecha_publicacion(ca_videos, 'publish_date')\n",
    "\n",
    "transformar_fecha_estadisticas(usa_videos, 'statistics_date')\n",
    "transformar_fecha_publicacion(usa_videos, 'publish_date')\n",
    "\n",
    "transformar_fecha_estadisticas(mx_videos, 'statistics_date')\n",
    "transformar_fecha_publicacion(mx_videos, 'publish_date')"
   ]
  },
  {
   "cell_type": "markdown",
   "metadata": {},
   "source": [
    "## Ejercicio 4\n",
    "\n",
    "¿En que año se subieron más vídeos para cada país? \n",
    "\n",
    "**Ten en cuenta que puede haber más de una fila que compartan el mismo video (`video_id`)**"
   ]
  },
  {
   "cell_type": "code",
   "execution_count": null,
   "metadata": {},
   "outputs": [],
   "source": [
    "df_unique_ids = ca_videos.drop_duplicates(subset='video_id')\n",
    "\n",
    "df_unique_ids"
   ]
  },
  {
   "cell_type": "code",
   "execution_count": null,
   "metadata": {},
   "outputs": [],
   "source": [
    "def max_videos_year(df, country):\n",
    "    # Extraer el año de la columna publish_date\n",
    "    df = df.drop_duplicates(subset = \"video_id\")\n",
    "    df['publish_year'] = pd.to_datetime(df['publish_date']).dt.year\n",
    "    \n",
    "    # Agrupar los datos por año, contar el número de vídeos subidos \n",
    "    videos_agg = df.groupby(['publish_year']).size().idxmax()\n",
    "    \n",
    "    # Imprimir el resultado\n",
    "    print(f\"Año con más vídeos subidos para {country}:\")\n",
    "    print(videos_agg)\n",
    "\n",
    "# Llamadas a la función para cada país\n",
    "max_videos_year(ca_videos, \"Canada\")\n",
    "max_videos_year(usa_videos, \"USA\")\n",
    "max_videos_year(mx_videos, \"Mexico\")"
   ]
  },
  {
   "cell_type": "markdown",
   "metadata": {},
   "source": [
    "## Ejercicio 5 \n",
    "\n",
    "¿Qué mes del año 2017 tiene el record en visitas para el dataframe de vídeos de México?"
   ]
  },
  {
   "cell_type": "code",
   "execution_count": null,
   "metadata": {},
   "outputs": [],
   "source": [
    "# Eliminamos duplicados para que no se sume todos los registros de un mismo vídeo. Nos quedamos con la última actualización que tenemos de un vídeo. Esas visitas son las que cuentan,\n",
    "# ya que son las visitas finales que se tienen registradas sobre ese vídeo.\n",
    "\n",
    "idx = mx_videos.groupby('video_id')['statistics_date'].idxmax()\n",
    "\n",
    "mx_videos_unique = mx_videos.loc[idx]\n",
    "\n",
    "\n",
    "print(mx_videos.shape)\n",
    "print(mx_videos_unique.shape)"
   ]
  },
  {
   "cell_type": "code",
   "execution_count": null,
   "metadata": {},
   "outputs": [],
   "source": [
    "mx_videos_unique['publish_year'] = pd.to_datetime(mx_videos_unique['publish_date']).dt.year\n",
    "\n",
    "# Filtrar los datos para incluir solo los vídeos de 2017\n",
    "mx_videos_2017 = mx_videos_unique[mx_videos_unique['publish_year'] == 2017]\n",
    "\n",
    "# Extraer el mes de la columna 'publish_date'\n",
    "mx_videos_2017['publish_month'] = mx_videos_2017['publish_date'].dt.month\n",
    "\n",
    "# Agrupar por mes y sumar las visitas\n",
    "monthly_visits_2017 = mx_videos_2017.groupby('publish_month')['views'].sum()\n",
    "\n",
    "# Encontrar el mes con el mayor número de visitas\n",
    "mes_max_visitas = monthly_visits_2017.idxmax()\n",
    "\n",
    "mes_max_visitas"
   ]
  },
  {
   "cell_type": "markdown",
   "metadata": {},
   "source": [
    "## Ejercicio 6\n",
    "\n",
    "¿Qué dataframe de los 3 tiene más valores nulos entre todas sus columnas? Calcula el porcentaje de columnas nulas de los dataframes utilizando la función `apply`"
   ]
  },
  {
   "cell_type": "code",
   "execution_count": null,
   "metadata": {},
   "outputs": [],
   "source": [
    "# Calcula el porcentaje de valores nulos en cada DataFrame\n",
    "porcentaje_nulos_ca = ca_videos.apply(lambda col: (col.isnull().sum() / len(col)) * 100)\n",
    "porcentaje_nulos_usa = usa_videos.apply(lambda col: (col.isnull().sum() / len(col)) * 100)\n",
    "porcentaje_nulos_mx = mx_videos.apply(lambda col: (col.isnull().sum() / len(col)) * 100)\n",
    "\n",
    "print(porcentaje_nulos_mx)\n",
    "# Suma el porcentaje de valores nulos en todas las columnas de cada DataFrame\n",
    "total_nulos_ca = porcentaje_nulos_ca.sum()\n",
    "total_nulos_usa = porcentaje_nulos_usa.sum()\n",
    "total_nulos_mx = porcentaje_nulos_mx.sum()\n",
    "\n",
    "# Determina cuál DataFrame tiene más valores nulos entre todas sus columnas\n",
    "max_nulos = max(total_nulos_ca, total_nulos_usa, total_nulos_mx)\n",
    "\n",
    "if max_nulos == total_nulos_ca:\n",
    "    print(\"El DataFrame de vídeos de Canadá tiene más valores nulos entre todas sus columnas.\")\n",
    "elif max_nulos == total_nulos_usa:\n",
    "    print(\"El DataFrame de vídeos de USA tiene más valores nulos entre todas sus columnas.\")\n",
    "else:\n",
    "    print(\"El DataFrame de vídeos de México tiene más valores nulos entre todas sus columnas.\")"
   ]
  },
  {
   "cell_type": "markdown",
   "metadata": {},
   "source": [
    "## Ejercicio 7\n",
    "\n",
    "Reemplaza los valores nulos del dataframe con más valores nulos con los siguientes criterios:\n",
    "\n",
    "- 1. Si la columna es de tipo int64 reemplaza el valor nulo por la moda de valores de esa columna. (La moda es el valor que más se repite dentro de los valores de la columna.)\n",
    "- 2. Si la columna es de tipo string rellena cada valor nulo por el valor no nulo más próximo después de ese registro. (Estrategia de relleno)"
   ]
  },
  {
   "cell_type": "code",
   "execution_count": null,
   "metadata": {},
   "outputs": [],
   "source": [
    "def imputar_valores_nulos(df):\n",
    "    for column in df.columns:\n",
    "        if df[column].dtype == 'int64':\n",
    "            # Si la columna es de tipo int64, reemplazar los valores nulos por la moda\n",
    "            moda = df[column].mode()[0]\n",
    "            df[column].fillna(moda, inplace=True)\n",
    "        elif df[column].dtype == 'object':\n",
    "            # Si la columna es de tipo string, rellenar los valores nulos con la estrategia de relleno\n",
    "            df[column].fillna(method='ffill', inplace=True)\n",
    "\n",
    "# Imputar los valores nulos en el DataFrame con más valores nulos\n",
    "imputar_valores_nulos(mx_videos)"
   ]
  },
  {
   "cell_type": "markdown",
   "metadata": {},
   "source": [
    "## Ejercicio 8\n",
    "\n",
    "¿Cuántos vídeos tienen audiciencia compartida entre los 3 dataframes? Es decir, que se hayan visto en USA, Canadá y México. \n",
    "\n",
    "**Puedes combinar los dataframes por la columna `video_id`**"
   ]
  },
  {
   "cell_type": "code",
   "execution_count": null,
   "metadata": {},
   "outputs": [],
   "source": [
    "# Nos quedamos con la última actualización de la información de los vídeos para los 3 países.\n",
    "idx = mx_videos.groupby('video_id')['statistics_date'].idxmax()\n",
    "mx_videos = mx_videos.loc[idx]\n",
    "\n",
    "idx = ca_videos.groupby('video_id')['statistics_date'].idxmax()\n",
    "ca_videos = ca_videos.loc[idx]\n",
    "\n",
    "idx = usa_videos.groupby('video_id')['statistics_date'].idxmax()\n",
    "usa_videos = usa_videos.loc[idx]\n",
    "\n",
    "# Realiza los joins entre los DataFrames por la columna 'video_id'\n",
    "join_df = ca_videos.set_index('video_id').join(usa_videos.set_index('video_id'), lsuffix='_ca', rsuffix='_usa', how='inner').join(mx_videos.set_index('video_id'), lsuffix='_ca', rsuffix='_mx', how='inner')\n",
    "\n",
    "# Encuentra el número de vídeos con audiencia compartida\n",
    "num_videos_audiencia_compartida = join_df.shape[0]\n",
    "\n",
    "print(\"El número de vídeos con audiencia compartida entre USA, Canadá y México es:\", num_videos_audiencia_compartida)"
   ]
  },
  {
   "cell_type": "markdown",
   "metadata": {},
   "source": [
    "## Ejercicio 9\n",
    "\n",
    "¿Cuál es el vídeo más visto que se vió en los 3 países? ¿Y el que tuvo más likes?"
   ]
  },
  {
   "cell_type": "code",
   "execution_count": null,
   "metadata": {},
   "outputs": [],
   "source": [
    "# Encontrar el vídeo más visto en los tres países\n",
    "video_mas_visto = join_df['views'].idxmax()\n",
    "max_views = join_df.loc[video_mas_visto, 'views']\n",
    "\n",
    "# Encontrar el vídeo con más likes en los tres países\n",
    "video_mas_likes = join_df['likes'].idxmax()\n",
    "max_likes = join_df.loc[video_mas_likes, 'likes']\n",
    "\n",
    "print(\"El vídeo más visto que se vio en los tres países es:\", join_df.loc[video_mas_visto, 'title'], \"con\", max_views, \"vistas.\")\n",
    "print(\"El vídeo con más likes que se vio en los tres países es:\", join_df.loc[ video_mas_likes,'title'], \"con\", max_likes, \"likes.\")\n"
   ]
  }
 ],
 "metadata": {
  "kernelspec": {
   "display_name": "Python 3",
   "language": "python",
   "name": "python3"
  },
  "language_info": {
   "codemirror_mode": {
    "name": "ipython",
    "version": 3
   },
   "file_extension": ".py",
   "mimetype": "text/x-python",
   "name": "python",
   "nbconvert_exporter": "python",
   "pygments_lexer": "ipython3",
   "version": "3.9.9"
  },
  "orig_nbformat": 4
 },
 "nbformat": 4,
 "nbformat_minor": 2
}
