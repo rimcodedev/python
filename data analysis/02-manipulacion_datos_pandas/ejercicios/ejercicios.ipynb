{
 "cells": [
  {
   "cell_type": "markdown",
   "metadata": {},
   "source": [
    "## Introducción\n",
    "\n",
    "En estos ejercicios vamos a trabajar con el dataset alojado en la ruta del curso **/Dia-03/datasets/harvard_reviews.csv**\n",
    "\n",
    "Ejecuta la siguiente celda para el dataframe con el contenido del dataset."
   ]
  },
  {
   "cell_type": "code",
   "execution_count": null,
   "metadata": {},
   "outputs": [],
   "source": []
  },
  {
   "cell_type": "markdown",
   "metadata": {},
   "source": [
    "## Ejercicio 1\n",
    "\n",
    "Selecciona la columna ``text`` del dataframe reviews y asignalo a una variable llamada ``col_texto``"
   ]
  },
  {
   "cell_type": "code",
   "execution_count": null,
   "metadata": {},
   "outputs": [],
   "source": []
  },
  {
   "cell_type": "markdown",
   "metadata": {},
   "source": [
    "Pregunta complementaria: ¿qué tipo de objeto es **col_texto**? Si no estás seguro, puedes comprobarlo llamando a la función type de Python: type(desc)."
   ]
  },
  {
   "cell_type": "markdown",
   "metadata": {},
   "source": [
    "## Ejercicio 2\n",
    "\n",
    "Selecciona el primer valor de la columna `text` de reviews, asignándolo a la variable `primer_texto`."
   ]
  },
  {
   "cell_type": "code",
   "execution_count": null,
   "metadata": {},
   "outputs": [],
   "source": []
  },
  {
   "cell_type": "markdown",
   "metadata": {},
   "source": [
    "## Ejercicio 3\n",
    "\n",
    "Selecciona la primera fila de datos (el primer registro) de `reviews`, asignándola a la variable `primera_fila`."
   ]
  },
  {
   "cell_type": "code",
   "execution_count": null,
   "metadata": {},
   "outputs": [],
   "source": []
  },
  {
   "cell_type": "markdown",
   "metadata": {},
   "source": [
    "## Ejercicio 4\n",
    "\n",
    "Selecciona los 10 primeros valores de la columna `title` en `reviews`, asignando el resultado a la variable `primeros_titulos`.\n",
    "\n",
    "Sugerencia: formatea su salida como una Serie pandas."
   ]
  },
  {
   "cell_type": "code",
   "execution_count": null,
   "metadata": {},
   "outputs": [],
   "source": []
  },
  {
   "cell_type": "markdown",
   "metadata": {},
   "source": [
    "## Ejercicio 5\n",
    "\n",
    "Selecciona los registros con etiquetas de índice `1`, `2`, `3`, `5` y `8`, asignando el resultado a la variable `reviews_filtradas`.\n",
    "\n",
    "En otras palabras, genere el siguiente DataFrame:\n",
    "\n",
    "<img src=\"imgs/ej-05.PNG\">"
   ]
  },
  {
   "cell_type": "code",
   "execution_count": null,
   "metadata": {},
   "outputs": [],
   "source": []
  },
  {
   "cell_type": "markdown",
   "metadata": {},
   "source": [
    "## Ejercicio 6\n",
    "\n",
    "Crea una variable `df` que contenga las columnas `published_platform`, `rating`, `type` y `helpful_votes` de los registros con las etiquetas de índice `0`, `1`, `10` y `100`. En otras palabras, genera el siguiente DataFrame:"
   ]
  },
  {
   "cell_type": "code",
   "execution_count": null,
   "metadata": {},
   "outputs": [],
   "source": []
  },
  {
   "cell_type": "markdown",
   "metadata": {},
   "source": [
    "## Ejercicio 7\n",
    "\n",
    "Crea una variable `df` que contenga las columnas `title` y `text` de los 100 primeros registros."
   ]
  },
  {
   "cell_type": "code",
   "execution_count": null,
   "metadata": {},
   "outputs": [],
   "source": []
  },
  {
   "cell_type": "markdown",
   "metadata": {},
   "source": [
    "## Ejercicio 8\n",
    "\n",
    "Crea un DataFrame llamado `harvard_rating` que contenga los registros donde los valores de la columna `rating` sean mayor que 3."
   ]
  },
  {
   "cell_type": "code",
   "execution_count": null,
   "metadata": {},
   "outputs": [],
   "source": []
  },
  {
   "cell_type": "markdown",
   "metadata": {},
   "source": [
    "## Ejercicio 9\n",
    "\n",
    "Crea un DataFrame llamado `harvard_mobile` que contenga los registros donde los valores de la columna `rating` sean mayor que 3 y además las reviews se hayan hecho por el móvil. \n",
    "\n",
    "Pista: Fíjate en la columna `published_platform`"
   ]
  },
  {
   "cell_type": "code",
   "execution_count": null,
   "metadata": {},
   "outputs": [],
   "source": []
  },
  {
   "cell_type": "markdown",
   "metadata": {},
   "source": [
    "## Ejercicio 10\n",
    "\n",
    "Añade una nueva columna al dataframe de `reviews` llamada `rating_europe` en la cuál se debe almacenar los valores de la columna `rating` multiplicados por 2."
   ]
  },
  {
   "cell_type": "code",
   "execution_count": null,
   "metadata": {},
   "outputs": [],
   "source": []
  }
 ],
 "metadata": {
  "kernelspec": {
   "display_name": "Python 3",
   "language": "python",
   "name": "python3"
  },
  "language_info": {
   "codemirror_mode": {
    "name": "ipython",
    "version": 3
   },
   "file_extension": ".py",
   "mimetype": "text/x-python",
   "name": "python",
   "nbconvert_exporter": "python",
   "pygments_lexer": "ipython3",
   "version": "3.9.5"
  },
  "orig_nbformat": 4
 },
 "nbformat": 4,
 "nbformat_minor": 2
}
