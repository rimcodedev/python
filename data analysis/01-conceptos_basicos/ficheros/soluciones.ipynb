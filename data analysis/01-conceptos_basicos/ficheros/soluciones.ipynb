{
 "cells": [
  {
   "cell_type": "markdown",
   "metadata": {},
   "source": [
    "## Ejercicio 1\n",
    "\n",
    "En la celda de código siguiente crea un dataframe llamado frutas que tenga esta estructura: \n",
    "<br><br>\n",
    "<img src=\"imgs/ej-01.PNG\">"
   ]
  },
  {
   "cell_type": "code",
   "execution_count": null,
   "metadata": {},
   "outputs": [],
   "source": [
    "import pandas as pd\n",
    "\n",
    "frutas = pd.DataFrame({'Manzanas': [30], 'Platanos': [21]})\n",
    "\n",
    "frutas"
   ]
  },
  {
   "cell_type": "markdown",
   "metadata": {},
   "source": [
    "## Ejercicio 2\n",
    "\n",
    "Crea un dataframe llamado ventas_frutas que encaje con la siguiente foto:\n",
    "\n",
    "<br>\n",
    "\n",
    "<img src=\"imgs/ej-01.2.PNG\">"
   ]
  },
  {
   "cell_type": "code",
   "execution_count": null,
   "metadata": {},
   "outputs": [],
   "source": [
    "pd.DataFrame({'Manzanas': [35, 41], 'Platanos': [21,34]},\n",
    "             index=['Ventas 2017', 'Ventas 2018'])"
   ]
  },
  {
   "cell_type": "markdown",
   "metadata": {},
   "source": [
    "## Ejercicio 3\n",
    "\n",
    "Crea una variable ingredientes que sea una serie con este contenido:\n",
    "\n",
    "<img src=\"imgs/ej-01.3.PNG\">"
   ]
  },
  {
   "cell_type": "code",
   "execution_count": null,
   "metadata": {},
   "outputs": [],
   "source": [
    "ingredientes = pd.Series(['4 tazas', '1 taza', '2 unidades XL', '1 pieza'], index=['Harina', 'Leche', 'Huevos', 'Limon'], name='Cena')\n",
    "\n",
    "ingredientes"
   ]
  },
  {
   "cell_type": "markdown",
   "metadata": {},
   "source": [
    "## Ejercicio 4\n",
    "\n",
    "Lee el dataset llamado **datos_casas_india.csv** que está en la ruta **/Dia-02/datasets/datos_casas_india.csv** en una variable de tipo dataframe y llámalo casas_india, finalmente muestra su contenido.\n",
    "\n"
   ]
  },
  {
   "cell_type": "code",
   "execution_count": null,
   "metadata": {},
   "outputs": [],
   "source": [
    "casas_india = pd.read_csv(\"../datasets/datos_casas_india.csv\")\n",
    "\n",
    "casas_india"
   ]
  },
  {
   "cell_type": "markdown",
   "metadata": {},
   "source": [
    "## Ejercicio 5\n",
    "\n",
    "Ejecuta la siguiente celda para crear un dataframe llamado animales y crea una celda extra en la que se escriba ese dataframe en un fichero CSV en la ruta **/Dia-01/datasets/animales.csv**"
   ]
  },
  {
   "cell_type": "code",
   "execution_count": null,
   "metadata": {},
   "outputs": [],
   "source": [
    "animales = pd.DataFrame({'Vacas': [12, 20], 'Cabras': [22, 19]}, index=['Año 1', 'Año 2'])\n",
    "animales"
   ]
  },
  {
   "cell_type": "code",
   "execution_count": null,
   "metadata": {},
   "outputs": [],
   "source": [
    "animales.to_csv('../datasets/animales.csv')"
   ]
  }
 ],
 "metadata": {
  "kernelspec": {
   "display_name": "Python 3",
   "language": "python",
   "name": "python3"
  },
  "language_info": {
   "codemirror_mode": {
    "name": "ipython",
    "version": 3
   },
   "file_extension": ".py",
   "mimetype": "text/x-python",
   "name": "python",
   "nbconvert_exporter": "python",
   "pygments_lexer": "ipython3",
   "version": "3.9.9"
  },
  "orig_nbformat": 4
 },
 "nbformat": 4,
 "nbformat_minor": 2
}
