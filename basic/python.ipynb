{
 "cells": [
  {
   "cell_type": "markdown",
   "metadata": {},
   "source": [
    "# **FUNDAMENTOS DE PYTHON**  \n",
    "\n",
    "1. Tipos de datos básicos y operadores\n",
    "\n",
    "2. Estructuras de datos\n",
    "\n",
    "3. Condicionales\n",
    "\n",
    "4. Bucles\n",
    "\n",
    "5. Funciones \n",
    "\n",
    "6. Programación orientada a objetos\n",
    "\n",
    "<img src=\"../imgs/python.png\" width=\"450px\" height=\"200px\">"
   ]
  },
  {
   "cell_type": "markdown",
   "metadata": {},
   "source": [
    "### **1. TIPOS DE DATOS BÁSICOS Y OPERADORES**"
   ]
  },
  {
   "cell_type": "code",
   "execution_count": 5,
   "metadata": {},
   "outputs": [
    {
     "name": "stdout",
     "output_type": "stream",
     "text": [
      "potencia:  125\n"
     ]
    }
   ],
   "source": [
    "################### TIPOS DE DATOS BASICOS #####################\n",
    "\n",
    "# Una variable es un espacio asignado en memoria RAM y que ocupa un tamaño dependiendo de su tipo de datos,\n",
    "# los tipos de datos básicos que implementa Python por defecto son los siguientes.\n",
    "\n",
    "#Números (Entero, float)\n",
    "contador : int = 0\n",
    "number_pi : float = 3.1416\n",
    "\n",
    "\n",
    "# Booleanos\n",
    "is_true : bool = True\n",
    "is_false : bool = False\n",
    "\n",
    "# String\n",
    "mi_nombre : str = \"Javier\"\n",
    "\n",
    "################### OPERADORES #####################\n",
    "\n",
    "# Un operador es un signo que utilizamos para señalar que operacion realizamos entre dos o más operandos, por ejemplo el operador de suma, el de resta, \n",
    "# multiplicación y otros más específicos de la programación\n",
    "\n",
    "################### OPERADORES ARITMETICOS #####################\n",
    "\n",
    "suma : int = 5 + 3 # Suma\n",
    "resta : int = 5 - 3 # Resta\n",
    "multiply : int = 5 * 3 # Multiplicación\n",
    "division : float = 5 / 3 # División     # División entera\n",
    "division_entera : int = 5 // 3 # División entera    # Módulo o residuo de la división\n",
    "modulo : int = 5 % 3 # Módulo o residuo de la división          \n",
    "potencia : int = 5 ** 3 # Potencia o exponente\n",
    "raiz : float = 25 ** (1/2) # Raíz cuadrada  \n",
    "\n",
    "print(\"potencia: \", potencia)\n",
    "\n",
    "################### OPERADORES RELACIONALES #####################\n",
    "mayor_que : bool = 5 > 3 # Mayor que\n",
    "menor_que : bool = 5 < 3 # Menor que\n",
    "mayor_igual : bool = 5 >= 3 # Mayor o igual que\n",
    "menor_igual : bool = 5 <= 3 # Menor o igual que \n",
    "igual : bool = 5 == 3 # Igual que\n",
    "diferente : bool = 5 != 3 # Diferente que\n",
    "\n",
    "################### OPERADORES LOGICOS #####################\n",
    "and_operador : bool = True and False # Operador lógico AND\n",
    "or_operador : bool = True or False # Operador lógico OR\n",
    "not_operador : bool = not True # Operador lógico NOT    \n",
    "\n",
    "################### OPERADORES DE PERTENENCIA #####################\n",
    "in_operador : bool = \"Javier\" in mi_nombre # Operador de pertenencia IN\n",
    "not_in_operador : bool = \"Javier\" not in mi_nombre # Operador de pertenencia NOT IN  \n",
    "\n",
    "################### OPERADORES DE IDENTIDAD #####################\n",
    "x = 1\n",
    "y = x\n",
    "\n",
    "is_x_y : bool = x is y # Operador de identidad IS\n",
    "is_not_x_y : bool = x is not y # Operador de identidad IS NOT   \n",
    "\n",
    "nulo = None # Nulo o vacío\n",
    "is_nulo : bool = nulo is None # Operador de identidad IS\n",
    "is_not_nulo : bool = nulo is not None # Operador de identidad IS NOT    \n"
   ]
  },
  {
   "cell_type": "markdown",
   "metadata": {},
   "source": [
    "### **2. ESTRUCTURAS DE DATOS**"
   ]
  },
  {
   "cell_type": "markdown",
   "metadata": {},
   "source": [
    "#### **2.1 LISTAS**"
   ]
  },
  {
   "cell_type": "code",
   "execution_count": 3,
   "metadata": {},
   "outputs": [
    {
     "name": "stdout",
     "output_type": "stream",
     "text": [
      "['Honda', 'Kawasaki', 'Yamaha']\n",
      "['Suzuki', 'BMW', 'Kawasaki', 'Yamaha', 'Honda', 'Ducati']\n"
     ]
    }
   ],
   "source": [
    "################### 1.CREACIÓN DE LISTAS #####################\n",
    "\n",
    "# 1. Lista vacía\n",
    "lista_vacia : list = [] # Lista vacía   \n",
    "lista_vacia_2 : list = list() # Lista vacía\n",
    "\n",
    "# 2. Lista con elementos\n",
    "motocicletas : list = [\"Honda\", \"Kawasaki\", \"Yamaha\", \"Honda\"] # Lista con elementos\n",
    "print(motocicleta)\n",
    "\n",
    "################### 2.INSERCIONES Y ACTUALIZACIONES #####################\n",
    "motocicletas.append(\"Ducati\") # Agregar un elemento al final de la lista\n",
    "motocicletas.insert(0, \"Suzuki\") # Agregar un elemento al inicio de la lista\n",
    "motocicletas[1] = \"BMW\" # Actualizar un elemento de la lista\n",
    "print(motocicletas)\n",
    "\n",
    "################### 3.BORRADOS #####################\n",
    "\n",
    "\n",
    "\n",
    "################# 4.ACCESO A LAS LISTAS ######################\n",
    "\n",
    "# La forma de acceder a los elementos de una lista es con el operador [inicio:fin]. Indicando el inicio de elementos que quieres de la lista\n",
    "# y fin indica el elemento - 1 que va recoger de la lista. Los indices empiezan en 0.\n",
    "\n"
   ]
  },
  {
   "cell_type": "markdown",
   "metadata": {},
   "source": [
    "#### **2.2 SETS**"
   ]
  },
  {
   "cell_type": "code",
   "execution_count": null,
   "metadata": {},
   "outputs": [],
   "source": [
    "################### 1.CREACIÓN DE SETS #####################\n",
    "\n",
    "# 1. set vacío\n",
    "\n",
    "\n",
    "# 2. Inicializar un set con elementos\n",
    "\n",
    "\n",
    "################### 2.INSERTAR Y ACTUALIZAR #####################\n",
    "\n",
    "\n",
    "################### 3.BORRADOS #####################\n",
    "\n",
    "\n",
    "################### 4.OPERACIONES DE SETS #####################\n",
    "\n",
    "\n",
    "################### 5.ACCESO A LOS SETS #####################\n",
    "\n",
    "#No hay una forma de acceder de forma indexada\n",
    "\n"
   ]
  },
  {
   "cell_type": "markdown",
   "metadata": {},
   "source": [
    "#### **2.3 TUPLAS**"
   ]
  },
  {
   "cell_type": "code",
   "execution_count": null,
   "metadata": {},
   "outputs": [],
   "source": [
    "################### 1.CREACIÓN DE TUPLAS #####################\n",
    "\n",
    "\n",
    "\n",
    "################### 2.INSERTAR Y ACTUALIZAR #####################\n",
    "\n",
    "\n",
    "################### 3.BORRADOS #####################\n",
    "\n",
    "\n",
    "################### 4.OPERACIONES DE TUPLAS #####################\n",
    "\n",
    "\n",
    "################### 5.ACCESO A LOS TUPLAS #####################\n",
    "\n",
    "# Acceso de forma indexada\n",
    "\n",
    "# Acceso con intervalos de elementos\n",
    "\n",
    "\n",
    "# Acceso con bucle for\n",
    "\n"
   ]
  },
  {
   "cell_type": "markdown",
   "metadata": {},
   "source": [
    "#### **2.4 DICCIONARIOS**"
   ]
  },
  {
   "cell_type": "code",
   "execution_count": null,
   "metadata": {},
   "outputs": [],
   "source": [
    "################### 1.CREACIÓN Y ACCESO DE DICCIONARIOS #####################\n",
    "\n",
    "# Diccionario vacío inicializado con dict()\n",
    "\n",
    "\n",
    "# Diccionario definido con tuplas \n",
    "\n",
    "\n",
    "# Diccionario inicializado con valores\n",
    "\n",
    "\n",
    "################### 2.INSERCION Y ACTUALIZACION EN DICCIONARIOS #####################\n",
    "\n",
    "\n",
    "################### 3.BORRADOS DE ELEMENTOS EN DICCIONARIOS #####################\n",
    "\n",
    "\n",
    "\n",
    "################### 4.ACCESO A ELEMENTOS EN DICCIONARIOS #####################\n"
   ]
  },
  {
   "cell_type": "markdown",
   "metadata": {},
   "source": [
    "### **3. CONDICIONALES**"
   ]
  },
  {
   "cell_type": "code",
   "execution_count": null,
   "metadata": {},
   "outputs": [],
   "source": [
    "############################# SINTAXIS #####################################\n",
    "\n",
    "#CONDICION SIMPLE\n",
    "\n",
    "#if condition1:\n",
    "#   accion1\n",
    "#elif condition2:\n",
    "#   accion2\n",
    "#else:\n",
    "#   accion3\n",
    "\n",
    "#CONDICION ANIDADA\n",
    "\n",
    "#if condition1:\n",
    "#   if condition2:\n",
    "#       action1\n",
    "#   elif condition3:\n",
    "#       action2\n",
    "#   else: \n",
    "#       action3\n",
    "#elif condition4:\n",
    "#   action4\n",
    "\n",
    "############################# CONDICIONAL BOOLEANO #####################################\n",
    "\n",
    "\n",
    "############################# CONDICIONAL BOOLEANO CON ELSE ##################################### \n",
    "\n",
    "\n",
    "\n",
    "############################# CONDICIONAL NUMÉRICO #####################################\n",
    "\n",
    "\n",
    "############################# CONDICIONAL NUMÉRICON CON ELIF #####################################\n",
    "\n",
    "\n",
    "\n",
    "\n",
    "############################# CONDICIONALES CON STRINGS #####################################\n",
    "\n",
    "# 1.Comparar valor de strings.\n",
    "\n",
    "\n",
    "# 2.Comprobar si un string es vacío.\n",
    "\n",
    "\n",
    "\n",
    "############################# CONDICIONALES CON LISTAS #####################################\n",
    "\n",
    "\n",
    "# 1. Comprobar si un elemento está en una lista.\n",
    "\n",
    "\n",
    "# 2. Comprobar si una lista está vacía.\n"
   ]
  },
  {
   "cell_type": "markdown",
   "metadata": {},
   "source": [
    "### **4. BUCLES**"
   ]
  },
  {
   "cell_type": "code",
   "execution_count": null,
   "metadata": {},
   "outputs": [],
   "source": [
    "############################# BUCLES FOR IN #####################################\n",
    "#Sintaxis:\n",
    "#For elemento in elementos:\n",
    "#   Acciones\n",
    "\n",
    "\n",
    "\n",
    "############################# BUCLES WHILE #####################################\n",
    "#Sintaxis:\n",
    "#While condicion:\n",
    "#   Acciones\n",
    "\n",
    "\n",
    "\n",
    "############################# SENTENCIAS BREAK, PASS Y CONTINUE #####################################\n",
    "\n",
    "#Break: Detiene la ejecución del bucle.\n",
    "\n",
    "\n",
    "#Pass: Se utiliza para dejar vacío un trozo de código que todavía no queremos especificar.\n",
    "\n",
    "\n",
    "\n",
    "\n",
    "#Continue: Pasa a la siguiente iteración del bucle.\n"
   ]
  },
  {
   "cell_type": "markdown",
   "metadata": {},
   "source": [
    "### **5. FUNCIONES**"
   ]
  },
  {
   "cell_type": "code",
   "execution_count": null,
   "metadata": {},
   "outputs": [],
   "source": [
    "# Sintaxis: def nombre_funcion(parametro1 : Tipo1, parametro2: Tipo2) -> TipoDatoRetorno:\n",
    "#               Acciones\n",
    "#               return Valor (Opcional)\n",
    "\n",
    "############################# FUNCIÓN SIN PARÁMETROS #####################################\n",
    "\n",
    "\n",
    "\n",
    "############################# FUNCIÓN CON PARÁMETROS #####################################\n",
    "\n",
    "# Python es un lenguaje con tipado dinámico, es decir, no hace falta indicar que tipo de datos va a recibir o devolver una función ya que Python\n",
    "# va a inferir los tipo de datos en tiempo de ejecución. Es muy recomendable indicar los tipos de datos para aumentar la legibilidad del código.\n",
    "# Es más, aunque tu le indiques el tipo de parámetros y luego le pasas otro tipo de datos NO va a dar un fallo.\n",
    "\n",
    "\n",
    "\n",
    "############################# FUNCIÓN CON PARÁMETROS CON VALORES POR DEFECTO #####################################\n",
    "\n",
    "\n",
    "\n",
    "############################# FUNCIÓNES QUE DEVUELVE MÁS DE UN VALOR #####################################\n",
    "\n"
   ]
  },
  {
   "cell_type": "markdown",
   "metadata": {},
   "source": [
    "### **6. PROGRAMACIÓN ORIENTADA A OBJETOS**"
   ]
  },
  {
   "cell_type": "code",
   "execution_count": null,
   "metadata": {},
   "outputs": [],
   "source": [
    "\n",
    "# Sintaxis:\n",
    "\n",
    "# class NombreClase():\n",
    "#   Atributos\n",
    "#   def __init__(self):\n",
    "#       Inicializar atributos (constructor)\n",
    "#   Setters and getters\n",
    "#   Metodos de clase\n",
    "#\n",
    "\n",
    "# Implementación de la clase mascota para un videojuego de animales.\n",
    "\n",
    "\n",
    "    \n",
    "    ############################# ATRIBUTOS DE LA CLASE #####################################\n",
    "\n",
    "\n",
    "    ############################# CONSTRUCTOR DE LA CLASE #####################################\n",
    "\n",
    "\n",
    "\n",
    "    ############################# METODOS GETTERS AND SETTERS #####################################\n",
    "\n",
    "    # Los metodos getters y setters sirven para ofrecer la funcionalidad de obtener el valor o cambiar el valor de los atributos que queremos darle \n",
    "    # la posibilidad al programador que utilice la clase.\n",
    "\n",
    "    # Sintaxis getters: (Los atributos deben ser privados o protegidos, sino no tendría sentido hacer un get o set ya que podemos modificar y\n",
    "    # consultar los atributos directamente, es más daría un bucle infinito.)\n",
    "    \n",
    "    # def get_atributo(self) -> tipo_atributo:\n",
    "    #   return self.__nombre_atributo\n",
    "\n",
    "    # Sintaxis setters:\n",
    "    # def set_atributo(self, value) -> None:\n",
    "    #   self.__nombre_atributo = value\n",
    "\n",
    "\n",
    "\n",
    "  ############################# METODOS DE CLASE #####################################\n",
    "\n",
    "  # Método que sirve para aumentar la salud a tu mascota.\n",
    "\n",
    "\n",
    "\n",
    "  # Método que sirve para aumentar de nivel a tu mascota en función del torneo que haya ganado.\n",
    "\n",
    "    "
   ]
  }
 ],
 "metadata": {
  "kernelspec": {
   "display_name": "Python 3",
   "language": "python",
   "name": "python3"
  },
  "language_info": {
   "codemirror_mode": {
    "name": "ipython",
    "version": 3
   },
   "file_extension": ".py",
   "mimetype": "text/x-python",
   "name": "python",
   "nbconvert_exporter": "python",
   "pygments_lexer": "ipython3",
   "version": "3.12.6"
  },
  "orig_nbformat": 4
 },
 "nbformat": 4,
 "nbformat_minor": 2
}
